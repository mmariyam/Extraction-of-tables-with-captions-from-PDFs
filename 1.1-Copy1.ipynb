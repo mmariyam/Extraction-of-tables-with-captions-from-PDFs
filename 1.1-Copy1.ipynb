{
 "cells": [
  {
   "cell_type": "code",
   "execution_count": 11,
   "id": "8fa78ed2",
   "metadata": {},
   "outputs": [
    {
     "name": "stdout",
     "output_type": "stream",
     "text": [
      "Table 1 found on page 6\n",
      "Table 1 found on page 7\n",
      "Table 1 found on page 8\n"
     ]
    },
    {
     "name": "stderr",
     "output_type": "stream",
     "text": [
      "FitzDeprecation: 'loadPage' removed from class 'Document' after v1.19.0 - use 'load_page'. [__init__.py:169]\n",
      "FitzDeprecation: 'searchFor' removed from class 'Page' after v1.19.0 - use 'search_for'. [__init__.py:169]\n"
     ]
    }
   ],
   "source": [
    "import fitz\n",
    "\n",
    "filename = \"/Users/mariyammukhumova/Documents/A1.pdf\"\n",
    "\n",
    "search_term = \"Table 1\"  \n",
    "pdf_document = fitz.open(filename)\n",
    "\n",
    "for current_page in range(len(pdf_document)):  \n",
    "    page = pdf_document.loadPage(current_page)\n",
    "    if page.searchFor(search_term):\n",
    "        print(\"%s found on page %i\" % (search_term, current_page+1))"
   ]
  },
  {
   "cell_type": "code",
   "execution_count": 4,
   "id": "1cfcea0d",
   "metadata": {},
   "outputs": [],
   "source": [
    "import fitz\n",
    "\n",
    "input_file = \"/Users/mariyammukhumova/Documents/A1.pdf\"\n",
    "output_file = \"/Users/mariyammukhumova/Documents/A1.1.pdf\"\n",
    "\n",
    "\n",
    "# Pages for saving - 6, 7, 8\n",
    "file_handle = fitz.open(input_file)\n",
    "pages_list = [5,6,7]\n",
    "\n",
    "# Chosing of pages and saving file\n",
    "file_handle.select(pages_list)\n",
    "file_handle.save(output_file)"
   ]
  },
  {
   "cell_type": "code",
   "execution_count": 5,
   "id": "5b420ae3",
   "metadata": {},
   "outputs": [
    {
     "name": "stdout",
     "output_type": "stream",
     "text": [
      "\n",
      "    Information about /Users/mariyammukhumova/Documents/A1.pdf: \n",
      "\n",
      "   \n",
      "    Title: doi:10.1016/S0301-9268(03)00110-4\n",
      "    \n"
     ]
    },
    {
     "name": "stderr",
     "output_type": "stream",
     "text": [
      "PdfReadWarning: Xref table not zero-indexed. ID numbers for objects will be corrected. [pdf.py:1736]\n"
     ]
    }
   ],
   "source": [
    "# extract_doc_info.py\n",
    "\n",
    "from PyPDF2 import PdfFileReader\n",
    "\n",
    "def extract_information(pdf_path):\n",
    "    with open(pdf_path, 'rb') as f:\n",
    "        pdf = PdfFileReader(f)\n",
    "        information = pdf.getDocumentInfo()\n",
    "\n",
    "    txt = f\"\"\"\n",
    "    Information about {pdf_path}: \n",
    "\n",
    "   \n",
    "    Title: {information.title}\n",
    "    \"\"\"\n",
    "\n",
    "    print(txt)\n",
    "    return information\n",
    "\n",
    "if __name__ == '__main__':\n",
    "    path = '/Users/mariyammukhumova/Documents/A1.pdf'\n",
    "    extract_information(path)"
   ]
  },
  {
   "cell_type": "code",
   "execution_count": 7,
   "id": "d0fd94e5",
   "metadata": {},
   "outputs": [],
   "source": [
    "import camelot\n",
    "def extract_table_from_page(pdf_file):\n",
    "    tables = camelot.read_pdf(pdf_file, flavor='stream', pages=\"8\",table_areas=['0,700,590,450'])\n",
    "    df = tables[0].df\n",
    "    df.to_csv('table_8.csv')\n",
    "\n",
    "\n",
    "if __name__ == '__main__':\n",
    "    extract_table_from_page('/Users/mariyammukhumova/Documents/A1.pdf')"
   ]
  },
  {
   "cell_type": "code",
   "execution_count": 8,
   "id": "d3684c06",
   "metadata": {},
   "outputs": [],
   "source": [
    "import camelot\n",
    "def extract_table_from_page(pdf_file):\n",
    "    tables = camelot.read_pdf(pdf_file, flavor='stream', pages=\"6\",table_areas=['100,800,690,200'])\n",
    "    df = tables[0].df\n",
    "    df.to_csv('table1.1.csv')\n",
    "\n",
    "\n",
    "if __name__ == '__main__':\n",
    "    extract_table_from_page('/Users/mariyammukhumova/Documents/A1.pdf')"
   ]
  },
  {
   "cell_type": "code",
   "execution_count": 10,
   "id": "15c81e63",
   "metadata": {},
   "outputs": [],
   "source": [
    "import camelot\n",
    "def extract_table_from_page(pdf_file):\n",
    "    tables = camelot.read_pdf(pdf_file, flavor='stream', pages=\"7\",table_areas=['100,800,690,200'])\n",
    "    df = tables[0].df\n",
    "    df.to_csv('table1.2.csv')\n",
    "\n",
    "\n",
    "if __name__ == '__main__':\n",
    "    extract_table_from_page('/Users/mariyammukhumova/Documents/A1.pdf')"
   ]
  },
  {
   "cell_type": "code",
   "execution_count": 8,
   "id": "4f7464aa",
   "metadata": {},
   "outputs": [],
   "source": [
    "import camelot\n",
    "def extract_table_from_page(pdf_file):\n",
    "    tables = camelot.read_pdf(pdf_file, flavor='stream', pages=\"6\",table_areas=['100,800,700,300'])\n",
    "    df = tables[0].df\n",
    "    df.to_csv('table6.csv')\n",
    "\n",
    "\n",
    "if __name__ == '__main__':\n",
    "    extract_table_from_page('/Users/mariyammukhumova/Documents/A1.pdf')"
   ]
  },
  {
   "cell_type": "code",
   "execution_count": 13,
   "id": "093905ad",
   "metadata": {},
   "outputs": [],
   "source": [
    "import camelot\n",
    "def extract_table_from_page(pdf_file):\n",
    "    tables = camelot.read_pdf(pdf_file, flavor='stream', pages=\"8\",table_areas=['100,800,700,350'])\n",
    "    df = tables[0].df\n",
    "    df.to_csv('table8.1.1.csv')\n",
    "\n",
    "\n",
    "if __name__ == '__main__':\n",
    "    extract_table_from_page('/Users/mariyammukhumova/Documents/A1.pdf')"
   ]
  },
  {
   "cell_type": "code",
   "execution_count": null,
   "id": "d8bcf174",
   "metadata": {},
   "outputs": [],
   "source": []
  }
 ],
 "metadata": {
  "kernelspec": {
   "display_name": "Python 3",
   "language": "python",
   "name": "python3"
  },
  "language_info": {
   "codemirror_mode": {
    "name": "ipython",
    "version": 3
   },
   "file_extension": ".py",
   "mimetype": "text/x-python",
   "name": "python",
   "nbconvert_exporter": "python",
   "pygments_lexer": "ipython3",
   "version": "3.8.8"
  }
 },
 "nbformat": 4,
 "nbformat_minor": 5
}
